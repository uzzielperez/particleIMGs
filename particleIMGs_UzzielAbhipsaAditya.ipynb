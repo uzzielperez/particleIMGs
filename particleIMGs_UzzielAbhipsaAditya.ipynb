
<!DOCTYPE HTML>
<html>

<head>
    <meta charset="utf-8">

    <title>Swan</title>
    <link rel="shortcut icon" type="image/x-icon" href="/hub/static/swan/logos/favicon.ico">
    <meta http-equiv="X-UA-Compatible" content="IE=edge" />
    <link rel="stylesheet" href="/user/aupreti/static/components/jquery-ui/themes/smoothness/jquery-ui.min.css?v=3c2a865c832a1322285c55c6ed99abb2" type="text/css" />
    <link rel="stylesheet" href="/user/aupreti/static/components/jquery-typeahead/dist/jquery.typeahead.min.css?v=9df10041c3e07da766e7c48dd4c35e4a" type="text/css" />
    <meta name="viewport" content="width=device-width, initial-scale=1.0">

    


<script type="text/javascript" src="/user/aupreti/static/components/MathJax/MathJax.js?config=TeX-AMS-MML_HTMLorMML-full,Safe&delayStartupUntil=configured" charset="utf-8"></script>

<script type="text/javascript">
// MathJax disabled, set as null to distinguish from *missing* MathJax,
// where it will be undefined, and should prompt a dialog later.
window.mathjax_url = "/user/aupreti/static/components/MathJax/MathJax.js";
</script>

<link rel="stylesheet" href="/user/aupreti/static/components/bootstrap-tour/build/css/bootstrap-tour.min.css?v=d0b3c2fce6056a2ddd5a4513762a94c4" type="text/css" />


    <!-- Latest compiled and minified CSS -->

    <link rel="stylesheet" href="/user/aupreti/static/components/codemirror/lib/codemirror.css?v=1623ab0774d4d8dd3cca2f42deb63dea">

    <link rel="stylesheet" href="/user/aupreti/static/style/style.min.css?v=321d76aeb19982a565773cf9f9c8f1d0" type="text/css"/>
    
    

<link rel="stylesheet" href="/user/aupreti/static/notebook/css/override.css?v=e6f18013b8771987812e992b38ec3318" type="text/css" />
<link rel="stylesheet" href=""  id='kernel-css'                             type="text/css" />


    <link rel="stylesheet" href="/hub/static/swan/css/style.css" type="text/css" />
    <script src="/user/aupreti/static/components/es6-promise/promise.min.js?v=f004a16cb856e0ff11781d01ec5ca8fe" type="text/javascript" charset="utf-8"></script>
    <script src="/user/aupreti/static/components/react/react.production.min.js?v=34f96ffc962a7deecc83037ccb582b58" type="text/javascript"></script>
    <script src="/user/aupreti/static/components/react/react-dom.production.min.js?v=b14d91fb641317cda38dbc9dbf985ab4" type="text/javascript"></script>
    <script src="/user/aupreti/static/components/create-react-class/index.js?v=94feb9971ce6d26211729abc43f96cd2" type="text/javascript"></script>
    <script src="/user/aupreti/static/components/requirejs/require.js?v=951f856e81496aaeec2e71a1c2c0d51f" type="text/javascript" charset="utf-8"></script>
    <script>
      require.config({
          
          urlArgs: "v=20201030220755",
          
          baseUrl: '/user/aupreti/static/',
          paths: {
            'auth/js/main': 'auth/js/main.min',
            custom : '/user/aupreti/custom',
            nbextensions : '/user/aupreti/nbextensions',
            kernelspecs : '/user/aupreti/kernelspecs',
            underscore : 'components/underscore/underscore-min',
            backbone : 'components/backbone/backbone-min',
            jed: 'components/jed/jed',
            jquery: 'components/jquery/jquery.min',
            json: 'components/requirejs-plugins/src/json',
            text: 'components/requirejs-text/text',
            bootstrap: 'components/bootstrap/dist/js/bootstrap.min',
            bootstraptour: 'components/bootstrap-tour/build/js/bootstrap-tour.min',
            'jquery-ui': 'components/jquery-ui/jquery-ui.min',
            moment: 'components/moment/min/moment-with-locales',
            codemirror: 'components/codemirror',
            termjs: 'components/xterm.js/xterm',
            typeahead: 'components/jquery-typeahead/dist/jquery.typeahead.min',
          },
          map: { // for backward compatibility
              "*": {
                  "jqueryui": "jquery-ui",
                  'tree/js/notebooklist': 'nbextensions/swancontents/notebooklist',
                  'contents': 'nbextensions/swancontents/contents'
              },
              'nbextensions/swancontents/notebooklist': {
                  'tree/js/notebooklist': 'tree/js/notebooklist'
              },
              'nbextensions/swancontents/contents': {
                      'contents': 'services/contents'
              }
          },
          shim: {
            typeahead: {
              deps: ["jquery"],
              exports: "typeahead"
            },
            underscore: {
              exports: '_'
            },
            backbone: {
              deps: ["underscore", "jquery"],
              exports: "Backbone"
            },
            bootstrap: {
              deps: ["jquery"],
              exports: "bootstrap"
            },
            bootstraptour: {
              deps: ["bootstrap"],
              exports: "Tour"
            },
            "jquery-ui": {
              deps: ["jquery"],
              exports: "$"
            }
          },
          waitSeconds: 30,
      });

      document.nbjs_translations = {"domain": "nbjs", "locale_data": {"nbjs": {"": {"domain": "nbjs"}}}};
      document.documentElement.lang = navigator.language.toLowerCase();

    </script>

    
    

</head>

<body class="notebook_app  full-width"
 




data-base-url="/user/aupreti/"
data-ws-url=""
data-notebook-name="particleIMGs_UzzielAbhipsaAditya.ipynb"
data-notebook-path="SWAN_projects/Sim/particleIMGs_UzzielAbhipsaAditya.ipynb"

page_type="cernbox"
dir="ltr">

<noscript>
    <div id='noscript'>
      Jupyter Notebook requires JavaScript.<br>
      Please enable it to proceed.
  </div>
</noscript>
<header role="navigation" aria-label="Top Menu">
  <div id="header-container" class="container">
      <div class="row">
          <div class="col-md-1 col-xs-6">
              <div id="ipython_notebook" class="nav navbar-brand"><a href="/user/aupreti/projects" title='Swan Projects'>
<img src='/hub/logo' alt='Jupyter Notebook'/>
</a></div>
          </div>

          <div class="col-md-3 col-md-push-8 col-xs-6 control">


              

              <div id="buttons-right-wrapper">
                  <div id="buttons-right">
                      <div id="options-buttons" class="btn-group">
                          
                          
                          <button id="help-button" role="presentation" class="btn btn-default btn-xs disabled" title="Help">
                            <i class="fa fa-question" aria-hidden="true"></i>
                          </button>
                          <button class="dropdown-toggle btn btn-default btn-xs" data-toggle="dropdown" title="Options">
                              <i class="icon-more" aria-hidden="true"></i>
                          </button>
                          <ul id="options-menu" class="dropdown-menu">
                              
                              
                              <li role="presentation">
                                  <a id="change-config" href="javascript:">Change configuration</a>
                              </li>
                          </ul>
                      </div>
                      <button class="btn btn-default btn-xs" onclick="javascript: window.location = '/user/aupreti/logout'" title="Log out">
                          <i class="fa fa-sign-out" aria-hidden="true"></i>
                      </button>
                  </div>
              </div>
              

<span>
    <a href='/hub/home'
       class='btn btn-default btn-sm navbar-btn pull-right'
       style='margin-right: 4px; margin-left: 2px;'>
        Control Panel
    </a>
</span>

          </div>


          <div class="middle col-md-8 col-md-pull-3 col-xs-12">

              


<span id="save_widget" class="save_widget">


    
    
    <span class="projectname">Sim</span>
        
    
    <span id="notebook_name" class="filename"></span>
    <div class="status">
        <span class="checkpoint_status"></span>
        <span class="autosave_status"></span>
    </div>
</span>

              



              
          </div>
      </div>
  </div>
  <div class="header-bar"></div>

  
  
</header>

<div id="site">

<div id="menubar-container">
    <div class="container">

        <div class="row">
            <div class="col-md-7 col-xs-12">

                <div id="menubar">

                    <div id="menus" class="navbar navbar-default" role="navigation">
                        <div class="container-fluid">
                            <button type="button" class="btn btn-default navbar-btn navbar-toggle" data-toggle="collapse" data-target=".navbar-collapse">
                                <i class="fa fa-bars"></i>
                                <span class="navbar-text">Menu</span>
                            </button>
                            <div class="navbar-collapse collapse">
                                <ul class="nav navbar-nav">
                                    <li class="dropdown"><a href="#" class="dropdown-toggle" id="filelink" data-toggle="dropdown" aria-haspopup="true" aria-controls="file_menu">File</a>
                                        <ul id="file_menu" class="dropdown-menu" role="menu" aria-labelledby="filelink">
                                            <li id="new_notebook" class="menu_focus_highlight dropdown dropdown-submenu" role="none">
                                                <a href="#" role="menuitem" aria-haspopup="true" aria-expanded="false" class="dropdown-toggle" data-toggle="dropdown">New Notebook<span class="sr-only">Dropdown</span></a>
                                                <ul class="dropdown-menu" id="menu-new-notebook-submenu" role="menu"></ul>
                                            </li>
                                            <li id="open_notebook" role="none"
                                                title="Opens a new window with the Dashboard view">
                                                <a href="#" role="menuitem">Open...</a></li>
                                            <!-- <hr/> -->
                                            <li class="divider" role="none"></li>
                                            <li id="copy_notebook" role="none"
                                                title="Open a copy of this notebook's contents and start a new kernel">
                                                <a href="#" role="menuitem">Make a Copy...</a></li>
                                            <li id="save_notebook_as" role="none"
                                                title="Save a copy of the notebook's contents and start a new kernel">
                                                <a href="#" role="menuitem">Save as...</a></li>
                                            <li id="rename_notebook" role="none"><a href="#" role="menuitem">Rename...</a></li>
                                            <li id="save_checkpoint" role="none"><a href="#" role="menuitem">Save and Checkpoint</a></li>
                                            <!-- <hr/> -->
                                            <li class="divider" role="none"></li>
                                            <li id="restore_checkpoint" class="menu_focus_highlight dropdown-submenu" role="none"><a href="#" role="menuitem" aria-haspopup="true" aria-expanded="false" class="dropdown-toggle" data-toggle="dropdown">Revert to Checkpoint<span class="sr-only">Dropdown</span></a>
                                              <ul class="dropdown-menu">
                                                <li><a href="#"></a></li>
                                                <li><a href="#"></a></li>
                                                <li><a href="#"></a></li>
                                                <li><a href="#"></a></li>
                                                <li><a href="#"></a></li>
                                              </ul>
                                            </li>
                                            <li class="divider" role="none"></li>
                                            <li id="print_preview" role="none"><a href="#" role="menuitem">Print Preview</a></li>
                                            <li class="dropdown-submenu menu_focus_highlight" role="none"><a href="#" role="menuitem" aria-haspopup="true" aria-expanded="false" class="dropdown-toggle" data-toggle="dropdown">Download as<span class="sr-only">Dropdown</span></a>
                                                <ul id="download_menu" class="dropdown-menu">
                                                    
                                                    <li id="download_asciidoc">
                                                        <a href="#">AsciiDoc (.asciidoc)</a>
                                                    </li>
                                                    
                                                    <li id="download_html">
                                                        <a href="#">HTML (.html)</a>
                                                    </li>
                                                    
                                                    <li id="download_latex">
                                                        <a href="#">LaTeX (.tex)</a>
                                                    </li>
                                                    
                                                    <li id="download_markdown">
                                                        <a href="#">Markdown (.md)</a>
                                                    </li>
                                                    
                                                    <li id="download_notebook">
                                                        <a href="#">Notebook (.ipynb)</a>
                                                    </li>
                                                    
                                                    <li id="download_pdf">
                                                        <a href="#">PDF via LaTeX (.pdf)</a>
                                                    </li>
                                                    
                                                    <li id="download_rst">
                                                        <a href="#">reST (.rst)</a>
                                                    </li>
                                                    
                                                    <li id="download_script">
                                                        <a href="#">Script (.txt)</a>
                                                    </li>
                                                    
                                                    <li id="download_slides">
                                                        <a href="#">Reveal.js slides (.slides.html)</a>
                                                    </li>
                                                    
                                                </ul>
                                            </li>
                                            <li class="dropdown-submenu hidden" role="none"><a href="#" role="menuitem">Deploy as</a>
                                                <ul id="deploy_menu" class="dropdown-menu"></ul>
                                            </li>
                                            <li class="divider" role="none"></li>
                                            <li id="trust_notebook" role="none"
                                                title="Trust the output of this notebook">
                                                <a href="#" role="menuitem">Trust Notebook</a></li>
                                            <li class="divider" role="none"></li>
                                            <li id="close_and_halt" role="none"
                                                title="Shutdown this notebook's kernel, and close this window">
                                                <a href="#" role="menuitem">Close and Halt</a></li>
                                        </ul>
                                    </li>
                    
                                    <li class="dropdown"><a href="#" class="dropdown-toggle" id="editlink" data-toggle="dropdown" aria-haspopup="true" aria-controls="edit_menu">Edit</a>
                                        <ul id="edit_menu" class="dropdown-menu" role="menu" aria-labelledby="editlink">
                                            <li id="cut_cell" role="none"><a href="#" role="menuitem">Cut Cells</a></li>
                                            <li id="copy_cell" role="none"><a href="#" role="menuitem">Copy Cells</a></li>
                                            <li id="paste_cell_above" class="disabled" role="none"><a href="#" role="menuitem" aria-disabled="true">Paste Cells Above</a></li>
                                            <li id="paste_cell_below" class="disabled" role="none"><a href="#" role="menuitem" aria-disabled="true">Paste Cells Below</a></li>
                                            <li id="paste_cell_replace" class="disabled" role="none"><a href="#" role="menuitem" aria-disabled="true">Paste Cells &amp; Replace</a></li>
                                            <li id="delete_cell" role="none"><a href="#" role="menuitem">Delete Cells</a></li>
                                            <li id="undelete_cell" class="disabled" role="none"><a href="#" role="menuitem" aria-disabled="true">Undo Delete Cells</a></li>
                                            <li class="divider" role="none"></li>
                                            <li id="split_cell" role="none"><a href="#" role="menuitem">Split Cell</a></li>
                                            <li id="merge_cell_above" role="none"><a href="#" role="menuitem">Merge Cell Above</a></li>
                                            <li id="merge_cell_below" role="none"><a href="#" role="menuitem">Merge Cell Below</a></li>
                                            <li class="divider" role="none"></li>
                                            <li id="move_cell_up" role="none"><a href="#" role="menuitem">Move Cell Up</a></li>
                                            <li id="move_cell_down" role="none"><a href="#" role="menuitem">Move Cell Down</a></li>
                                            <li class="divider" role="none"></li>
                                            <li id="edit_nb_metadata" role="none"><a href="#" role="menuitem">Edit Notebook Metadata</a></li>
                                            <li class="divider" role="none"></li>
                                            <li id="find_and_replace" role="none"><a href="#" role="menuitem"> Find and Replace </a></li>
                                            <li class="divider" role="none"></li>
                                            <li id="cut_cell_attachments" role="none"><a href="#" role="menuitem">Cut Cell Attachments</a></li>
                                            <li id="copy_cell_attachments" role="none"><a href="#" role="menuitem">Copy Cell Attachments</a></li>
                                            <li id="paste_cell_attachments"  class="disabled" role="none"><a href="#" role="menuitem" aria-disabled="true">Paste Cell Attachments</a></li>
                                            <li class="divider" role="none"></li>
                                            <li id="insert_image" class="disabled" role="none"><a href="#" role="menuitem" aria-disabled="true">  Insert Image </a></li>
                                        </ul>
                                    </li>
                                    <li class="dropdown"><a href="#" class="dropdown-toggle" id="viewlink" data-toggle="dropdown" aria-haspopup="true" aria-controls="view_menu">View</a>
                                        <ul id="view_menu" class="dropdown-menu" role="menu" aria-labelledby="viewlink">
                                            <li id="toggle_header" role="none"
                                                title="Show/Hide the logo and notebook title (above menu bar)">
                                                <a href="#" role="menuitem">Toggle Header</a>
                                            </li>
                                            <li id="toggle_toolbar" role="none"
                                                title="Show/Hide the action icons (below menu bar)">
                                                <a href="#" role="menuitem">Toggle Toolbar</a>
                                            </li>
                                            <li id="toggle_width"
                                                title="Make the editor wider or normal size">
                                                <a href="#">Toggle Width</a>
                                            </li>
                                            <li id="toggle_line_numbers" role="none"
                                                title="Show/Hide line numbers in cells">
                                                <a href="#" role="menuitem">Toggle Line Numbers</a>
                                            </li>
                                            <li id="menu-cell-toolbar" class="menu_focus_highlight dropdown-submenu" role="none">
                                                <a href="#" role="menuitem" aria-haspopup="true" aria-expanded="false" class="dropdown-toggle" data-toggle="dropdown">Cell Toolbar</a>
                                                <ul class="dropdown-menu" id="menu-cell-toolbar-submenu"></ul>
                                            </li>
                                        </ul>
                                    </li>
                                    <li class="dropdown"><a href="#" class="dropdown-toggle" id="insertlink" data-toggle="dropdown" aria-haspopup="true" aria-controls="insert_menu">Insert</a>
                                        <ul id="insert_menu" class="dropdown-menu" role="menu" aria-labelledby="insertlink">
                                            <li id="insert_cell_above" role="none"
                                                title="Insert an empty Code cell above the currently active cell">
                                                <a href="#" role="menuitem">Insert Cell Above</a></li>
                                            <li id="insert_cell_below" role="none"
                                                title="Insert an empty Code cell below the currently active cell">
                                                <a href="#" role="menuitem">Insert Cell Below</a></li>
                                        </ul>
                                    </li>
                                    <li class="dropdown"><a href="#" class="dropdown-toggle" id="celllink" data-toggle="dropdown" aria-haspopup="true" aria-controls="cell_menu">Cell</a>
                                        <ul id="cell_menu" class="dropdown-menu" role="menu" aria-labelledby="celllink">
                                            <li id="run_cell" role="none" title="Run this cell, and move cursor to the next one">
                                                <a role="menuitem" href="#">Run Cells</a></li>
                                            <li id="run_cell_select_below" role="none" title="Run this cell, select below">
                                                <a href="#" role="menuitem">Run Cells and Select Below</a></li>
                                            <li id="run_cell_insert_below" role="none" title="Run this cell, insert below">
                                                <a href="#" role="menuitem">Run Cells and Insert Below</a></li>
                                            <li id="run_all_cells" role="none" title="Run all cells in the notebook">
                                                <a href="#" role="menuitem">Run All</a></li>
                                            <li id="run_all_cells_above" role="none" title="Run all cells above (but not including) this cell">
                                                <a href="#" role="menuitem">Run All Above</a></li>
                                            <li id="run_all_cells_below" role="none" title="Run this cell and all cells below it">
                                                <a href="#" role="menuitem">Run All Below</a></li>
                                            <li class="divider" role="none"></li>
                                            <li id="change_cell_type" class="menu_focus_highlight dropdown-submenu" role="none"
                                                title="All cells in the notebook have a cell type. By default, new cells are created as 'Code' cells">
                                                <a href="#" role="menuitem" aria-haspopup="true" aria-expanded="false" class="dropdown-toggle" data-toggle="dropdown">Cell Type</a>
                                                <ul class="dropdown-menu" role="menu">
                                                  <li id="to_code" role="none"
                                                      title="Contents will be sent to the kernel for execution, and output will display in the footer of cell">
                                                      <a href="#">Code</a></li>
                                                  <li id="to_markdown"
                                                      title="Contents will be rendered as HTML and serve as explanatory text">
                                                      <a href="#">Markdown</a></li>
                                                  <li id="to_raw"
                                                      title="Contents will pass through nbconvert unmodified">
                                                      <a href="#">Raw NBConvert</a></li>
                                                </ul>
                                            </li>
                                            <li class="divider" role="none"></li>
                                            <li id="current_outputs" class="menu_focus_highlight dropdown-submenu" role="none"><a href="#" role="menuitem" aria-haspopup="true" aria-expanded="false" class="dropdown-toggle" data-toggle="dropdown">Current Outputs</a>
                                                <ul class="dropdown-menu" role="menu">
                                                    <li id="toggle_current_output" role="none"
                                                        title="Hide/Show the output of the current cell">
                                                        <a href="#">Toggle</a>
                                                    </li>
                                                    <li id="toggle_current_output_scroll"
                                                        title="Scroll the output of the current cell">
                                                        <a href="#">Toggle Scrolling</a>
                                                    </li>
                                                    <li id="clear_current_output"
                                                        title="Clear the output of the current cell">
                                                        <a href="#">Clear</a>
                                                    </li>
                                                </ul>
                                            </li>
                                            <li id="all_outputs" class="menu_focus_highlight dropdown-submenu" role="none"><a href="#" role="menuitem" aria-haspopup="true" aria-expanded="false" class="dropdown-toggle" data-toggle="dropdown">All Output</a>
                                                <ul class="dropdown-menu" role="menu">
                                                    <li id="toggle_all_output" role="none"
                                                        title="Hide/Show the output of all cells">
                                                        <a href="#">Toggle</a>
                                                    </li>
                                                    <li id="toggle_all_output_scroll"
                                                        title="Scroll the output of all cells">
                                                        <a href="#">Toggle Scrolling</a>
                                                    </li>
                                                    <li id="clear_all_output"
                                                        title="Clear the output of all cells">
                                                        <a href="#">Clear</a>
                                                    </li>
                                                </ul>
                                            </li>
                                        </ul>
                                    </li>
                                    <li class="dropdown"><a href="#" class="dropdown-toggle" data-toggle="dropdown" id="kernellink">Kernel</a>
                                        <ul id="kernel_menu" class="dropdown-menu" aria-labelledby="kernellink">
                                            <li id="int_kernel"
                                                title="Send Keyboard Interrupt (CTRL-C) to the Kernel">
                                                <a href="#">Interrupt</a>
                                            </li>
                                            <li id="restart_kernel"
                                                title="Restart the Kernel">
                                                <a href="#">Restart</a>
                                            </li>
                                            <li id="restart_clear_output"
                                                title="Restart the Kernel and clear all output">
                                                <a href="#">Restart &amp; Clear Output</a>
                                            </li>
                                            <li id="restart_run_all"
                                                title="Restart the Kernel and re-run the notebook">
                                                <a href="#">Restart &amp; Run All</a>
                                            </li>
                                            <li id="reconnect_kernel"
                                                title="Reconnect to the Kernel">
                                                <a href="#">Reconnect</a>
                                            </li>
                                            <li id="shutdown_kernel"
                                                title="Shutdown the Kernel">
                                                <a href="#">Shutdown</a>
                                            </li>
                                            <li class="divider" role="none"></li>
                                            <li id="menu-change-kernel" class="menu_focus_highlight dropdown-submenu" role="menuitem">
                                                <a href="#" role="menuitem" aria-haspopup="true" aria-expanded="false" class="dropdown-toggle" data-toggle="dropdown">Change kernel</a>
                                                <ul class="dropdown-menu" id="menu-change-kernel-submenu"></ul>
                                            </li>
                                        </ul>
                                    </li>
                                    <li class="dropdown"><a href="#" class="dropdown-toggle" data-toggle="dropdown">Help</a>
                                        <ul  id="help_menu" class="dropdown-menu">
                                            
                                            <li id="notebook_tour" title="A quick tour of the notebook user interface"><a href="#">User Interface Tour</a></li>
                                            <li id="keyboard_shortcuts" title="Opens a tooltip with all keyboard shortcuts"><a href="#">Keyboard Shortcuts</a></li>
                                            <li id="edit_keyboard_shortcuts" title="Opens a dialog allowing you to edit Keyboard shortcuts"><a href="#">Edit Keyboard Shortcuts</a></li>
                                            <li class="divider"></li>
                                            
                    
                                            
                                            
                                                
                                                    <li><a rel="noreferrer" href="http://nbviewer.jupyter.org/github/ipython/ipython/blob/3.x/examples/Notebook/Index.ipynb" target="_blank" title="Opens in a new window">
                                                    
                                                        <i class="fa fa-external-link menu-icon pull-right"></i>
                                                    
                    
                                                    Notebook Help
                                                    </a></li>
                                                
                                                    <li><a rel="noreferrer" href="https://help.github.com/articles/markdown-basics/" target="_blank" title="Opens in a new window">
                                                    
                                                        <i class="fa fa-external-link menu-icon pull-right"></i>
                                                    
                    
                                                    Markdown
                                                    </a></li>
                                                
                                                
                                            
                                            <li class="divider"></li>
                                            <li title="About Jupyter Notebook"><a id="notebook_about" href="#">About</a></li>
                                            
                                        </ul>
                                    </li>
                                </ul>
                            </div>
                        </div>
                    </div>
                </div>

                <div id="maintoolbar" class="navbar">
                    <div class="toolbar-inner navbar-inner navbar-nobg">
                        <div id="maintoolbar-container" class="container"></div>
                    </div>
                </div>


            </div>
            <div class="col-md-5 hidden-xs context-info">


                <span id="kernel_logo_widget">
                  
                  <img class="current_kernel_logo" alt="Current Kernel Logo" src="data:image/gif;base64,R0lGODlhAQABAIAAAAAAAP///yH5BAEAAAAALAAAAAABAAEAAAIBRAA7"/>
                  
                </span>


                <p id="kernel_indicator" class="navbar-text indicator_area">
                    <span class="kernel_indicator_name">Kernel</span>
                    <i id="kernel_indicator_icon"></i>
                </p>
                <i id="readonly-indicator" class="navbar-text" title='This notebook is read-only'>
                <span class="fa-stack">
                    <i class="fa fa-save fa-stack-1x"></i>
                    <i class="fa fa-ban fa-stack-2x text-danger"></i>
                </span>
                </i>
                <i id="modal_indicator" class="navbar-text"></i>
                <span id="notification_area"></span>

            </div>

        </div>

    </div>
</div>

<div class="lower-header-bar"></div>

<div id="ipython-main-app">
    <div id="notebook_panel">
        <div id="notebook"></div>
        <div id='tooltip' class='ipython_tooltip' style='display:none'></div>
    </div>
</div>



</div>



<div id="pager">
    <div id="pager-contents">
        <div id="pager-container" class="container"></div>
    </div>
    <div id='pager-button-area'></div>
</div>



<footer>
    <div class="container">
        <div class="row">
            <div class="col-xs-8 text">
                <span class="text-muted">SWAN &copy; Copyright CERN 2016-2020. All rights reserved.</span>
                <ul class="text-muted">
                    <li><a target="_blank" href="https://cern.ch/swan/">Home</a></li>
                    <li><a target="_blank" href="https://swan-community.web.cern.ch/">Community</a></li>
                    <li><a target="_blank" href="https://cern.service-now.com/service-portal/function.do?name=swan">Support</a></li>
                    <li><a target="_blank" href="https://github.com/swan-cern">Github</a></li>
                </ul>
            </div>
            <div class="col-xs-4 logo">
                <img src='/hub/static/swan/logos/logo_cern.png' alt='CERN'/>
            </div>
        </div>
    </div>
</footer>





<script type='text/javascript'>
  function _remove_redirects_param() {
    // remove ?redirects= param from URL so that
    // successful page loads don't increment the redirect loop counter
    if (window.location.search.length <= 1) {
      return;
    }
    var search_parameters = window.location.search.slice(1).split('&');
    for (var i = 0; i < search_parameters.length; i++) {
      if (search_parameters[i].split('=')[0] === 'redirects') {
        // remote token from search parameters
        search_parameters.splice(i, 1);
        var new_search = '';
        if (search_parameters.length) {
          new_search = '?' + search_parameters.join('&');
        }
        var new_url = window.location.origin +
                      window.location.pathname +
                      new_search +
                      window.location.hash;
        window.history.replaceState({}, "", new_url);
        return;
      }
    }
  }
  _remove_redirects_param();
</script>


<script type="text/javascript">
    sys_info = {"notebook_version": "6.1.3", "notebook_path": "/usr/local/lib/python3.7/site-packages/notebook", "commit_source": "", "commit_hash": "", "sys_version": "3.7.6 (default, Sep  3 2020, 10:47:53) \n[GCC 4.8.5 20150623 (Red Hat 4.8.5-39)]", "sys_executable": "/usr/local/bin/python3.7", "sys_platform": "linux", "platform": "Linux-3.10.0-1127.19.1.el7.x86_64-x86_64-with-centos-7.7.1908-Core", "os_name": "posix", "default_encoding": "UTF-8"};
</script>

<script src="/user/aupreti/static/components/text-encoding/lib/encoding.js?v=d5bb0fc9ffeff7d98a69bb83daa51052" charset="utf-8"></script>

<script src="/user/aupreti/static/notebook/js/main.min.js?v=f71d682290e3b718d369f11ba1d1aef1" type="text/javascript" charset="utf-8"></script>

<script type="text/javascript">

    fix_header = function() {
        setTimeout(function () {
            require(['jquery'], function($){

                var menu = $('#menubar-container');
                var main_app = $('#ipython-main-app');

                var menu_pos = menu.offset().top;
                var menu_height = menu.outerHeight();

                $(window).on('scroll', function (event) {

                    if ($(window).scrollTop() > menu_pos) {
                        menu.addClass('stick');
                        main_app.css('padding-top', menu_height);
                    } else {
                        menu.removeClass('stick');
                        main_app.css('padding-top', 0);
                    }
                });

                $('#toggle_width').on('click', function () {
                    $('body').toggleClass('full-width');
                });
            });
        }, 300); //Wait for the ease in css transition to make sure 
                 // menubar-container is visible and, therefore, with dimensions set.
    };

    // pageshow is fired when the document is made visible and 
    // is sent after the load event. This event fires even if the
    // page is cached, unlike load.
    window.addEventListener("pageshow", fix_header, false);

</script>


<script type='text/javascript'>
    define('template',[
        'jquery',
        'base/js/dialog'
    ], function ($, dialog) {

        $('#change-config').on('click', function () {
            dialog.modal({
                draggable: false,
                title: 'Change configuration',
                body: $("<p>You are going to shut down all your notebooks and remove your saved configuration.<br>Do you wish to continue?</p>"),
                buttons: {
                    'Cancel': {},
                    'Change': {
                        class: 'btn-warning',
                        click: function () {
                            window.location.replace('/hub/home?changeconfig');
                        }
                    }
                }
            }).modal('show');
        });
    });
    require(['template']);
</script>

</body>

</html>